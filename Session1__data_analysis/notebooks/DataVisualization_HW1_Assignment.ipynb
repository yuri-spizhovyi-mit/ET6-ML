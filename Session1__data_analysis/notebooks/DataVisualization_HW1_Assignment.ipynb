{
  "cells": [
    {
      "cell_type": "markdown",
      "metadata": {
        "id": "view-in-github",
        "colab_type": "text"
      },
      "source": [
        "<a href=\"https://colab.research.google.com/github/yuri-spizhovyi-mit/ET6-ML/blob/main/Session1__data_analysis/notebooks/DataVisualization_HW1_Assignment.ipynb\" target=\"_parent\"><img src=\"https://colab.research.google.com/assets/colab-badge.svg\" alt=\"Open In Colab\"/></a>"
      ]
    },
    {
      "cell_type": "code",
      "execution_count": 4,
      "metadata": {
        "id": "Zl7nTsvvADLn"
      },
      "outputs": [],
      "source": [
        "# MIT License\n",
        "#\n",
        "# @title Copyright (c) 2025 Ana Trisovic { display-mode: \"form\" }\n",
        "\n",
        "# Permission is hereby granted, free of charge, to any person obtaining a\n",
        "# copy of this software and associated documentation files (the \"Software\"),\n",
        "# to deal in the Software without restriction, including without limitation\n",
        "# the rights to use, copy, modify, merge, publish, distribute, sublicense,\n",
        "# and/or sell copies of the Software, and to permit persons to whom the\n",
        "# Software is furnished to do so, subject to the following conditions:\n",
        "#\n",
        "# The above copyright notice and this permission notice shall be included in\n",
        "# all copies or substantial portions of the Software.\n",
        "#\n",
        "# THE SOFTWARE IS PROVIDED \"AS IS\", WITHOUT WARRANTY OF ANY KIND, EXPRESS OR\n",
        "# IMPLIED, INCLUDING BUT NOT LIMITED TO THE WARRANTIES OF MERCHANTABILITY,\n",
        "# FITNESS FOR A PARTICULAR PURPOSE AND NONINFRINGEMENT. IN NO EVENT SHALL\n",
        "# THE AUTHORS OR COPYRIGHT HOLDERS BE LIABLE FOR ANY CLAIM, DAMAGES OR OTHER\n",
        "# LIABILITY, WHETHER IN AN ACTION OF CONTRACT, TORT OR OTHERWISE, ARISING\n",
        "# FROM, OUT OF OR IN CONNECTION WITH THE SOFTWARE OR THE USE OR OTHER\n",
        "# DEALINGS IN THE SOFTWARE."
      ]
    },
    {
      "cell_type": "markdown",
      "metadata": {
        "id": "RMgExOmAADLo"
      },
      "source": [
        "# Welcome to the UAI Course on Effective Data Visualization"
      ]
    },
    {
      "cell_type": "markdown",
      "metadata": {
        "id": "P8tvRZyBADLp"
      },
      "source": [
        "## Part I: Exploring Categorical and Time Series Data\n",
        "\n",
        "<small>Expected completion time: 30 minutes</small>\n",
        "\n",
        "### Ana Trisovic\n",
        "\n",
        "### Quick Overview\n",
        "\n",
        "This homework reviews the foundational concepts of data visualization in Python and provides hands-on experience with key techniques for exploring data trends. You'll learn how to create and customize common chart types—like pie charts, line plots, and bar graphs—using libraries such as `matplotlib` and `seaborn`.\n",
        "\n",
        "Through multiple examples, we emphasize not just how to visualize data, but also how to enhance visual appeal and clarity using styles, color palettes, and layout customization. By the end, you’ll be comfortable building aesthetically pleasing and insightful charts from scratch.\n",
        "\n",
        "<small>See also:</small>\n",
        "- <small>Previous</small>\n",
        "- <small>Next</small>\n",
        "\n",
        "## Getting Started: Software Prerequisites & Setup\n",
        "\n",
        "### 📦 Package Requirements\n",
        "\n",
        "In this course, we'll be working with three essential Python libraries for data visualization These packages serve distinct and complementary purposes:\n",
        "\n",
        "- **Pandas**: for handling and manipulating structured datasets.\n",
        "- **Matplotlib**: the foundational plotting library for Python, offering fine-grained control over plots.\n",
        "- **Seaborn**: built on top of Matplotlib, it provides a high-level interface for creating attractive and informative statistical graphics.\n",
        "\n",
        "### 🛠 Installation\n",
        "\n",
        "If these packages are not already installed in your environment, you can install them using `pip`\n",
        "\n",
        "💬 You may see a warning or version compatibility notice (especially in environments like Google Colab). As long as the core functionality works, these can typically be ignored."
      ]
    },
    {
      "cell_type": "code",
      "execution_count": 2,
      "metadata": {
        "id": "PkAQstEfADLp",
        "colab": {
          "base_uri": "https://localhost:8080/"
        },
        "outputId": "117fbfec-a2f4-4449-ca8f-d00f30d9117a"
      },
      "outputs": [
        {
          "output_type": "stream",
          "name": "stdout",
          "text": [
            "Requirement already satisfied: seaborn in /usr/local/lib/python3.11/dist-packages (0.13.2)\n",
            "Requirement already satisfied: pandas in /usr/local/lib/python3.11/dist-packages (2.2.2)\n",
            "Requirement already satisfied: matplotlib in /usr/local/lib/python3.11/dist-packages (3.10.0)\n",
            "Requirement already satisfied: numpy!=1.24.0,>=1.20 in /usr/local/lib/python3.11/dist-packages (from seaborn) (2.0.2)\n",
            "Requirement already satisfied: python-dateutil>=2.8.2 in /usr/local/lib/python3.11/dist-packages (from pandas) (2.9.0.post0)\n",
            "Requirement already satisfied: pytz>=2020.1 in /usr/local/lib/python3.11/dist-packages (from pandas) (2025.2)\n",
            "Requirement already satisfied: tzdata>=2022.7 in /usr/local/lib/python3.11/dist-packages (from pandas) (2025.2)\n",
            "Requirement already satisfied: contourpy>=1.0.1 in /usr/local/lib/python3.11/dist-packages (from matplotlib) (1.3.2)\n",
            "Requirement already satisfied: cycler>=0.10 in /usr/local/lib/python3.11/dist-packages (from matplotlib) (0.12.1)\n",
            "Requirement already satisfied: fonttools>=4.22.0 in /usr/local/lib/python3.11/dist-packages (from matplotlib) (4.58.4)\n",
            "Requirement already satisfied: kiwisolver>=1.3.1 in /usr/local/lib/python3.11/dist-packages (from matplotlib) (1.4.8)\n",
            "Requirement already satisfied: packaging>=20.0 in /usr/local/lib/python3.11/dist-packages (from matplotlib) (24.2)\n",
            "Requirement already satisfied: pillow>=8 in /usr/local/lib/python3.11/dist-packages (from matplotlib) (11.2.1)\n",
            "Requirement already satisfied: pyparsing>=2.3.1 in /usr/local/lib/python3.11/dist-packages (from matplotlib) (3.2.3)\n",
            "Requirement already satisfied: six>=1.5 in /usr/local/lib/python3.11/dist-packages (from python-dateutil>=2.8.2->pandas) (1.17.0)\n"
          ]
        }
      ],
      "source": [
        "!pip install seaborn pandas matplotlib"
      ]
    },
    {
      "cell_type": "code",
      "execution_count": 3,
      "metadata": {
        "id": "IX-04JFBADLp"
      },
      "outputs": [],
      "source": [
        "import pandas as pd\n",
        "import seaborn as sns\n",
        "import matplotlib.pyplot as plt\n",
        "\n",
        "sns.set_context(\"talk\")\n",
        "\n",
        "# Clone once per session\n",
        "!git clone https://github.com/yuri-spizhovyi-mit/ET6-ML.git\n",
        "\n",
        "# Move into the correct folder\n",
        "%cd ET6-ML"
      ]
    },
    {
      "cell_type": "markdown",
      "metadata": {
        "id": "0baZ4eBYADLp"
      },
      "source": [
        "### Basic Plots (Bar Chart, Pie Chart, Line Chart)\n",
        "\n",
        "Here’s a quick overview of **basic plot types** used in data visualization, with common use cases and distinguishing features."
      ]
    },
    {
      "cell_type": "markdown",
      "metadata": {
        "id": "xDrxDgmRADLp"
      },
      "source": [
        "## 2023 PEW RESEARCH CENTER NPORS INTERNET TOPLINE\n",
        "\n",
        "\n",
        "To better understand Americans’ social media use, Pew Research Center surveyed 5,733 U.S. adults from May 19 to Sept. 5, 2023. Ipsos conducted this National Public Opinion Reference Survey (NPORS) for the Center using address-based sampling and a multimode protocol that included both web and mail. This way nearly all U.S. adults have a chance of selection. The survey is weighted to be representative of the U.S. adult population by gender, race and ethnicity, education and other categories.\n",
        "\n",
        "A note on terminology: Our May-September 2023 survey was already in the field when Twitter changed its name to “X.” The terms Twitter and X are both used in this report to refer to the same platform.\n",
        "\n",
        "The full report is available [here](https://www.pewresearch.org/internet/wp-content/uploads/sites/9/2024/01/PI_2024.01.31_Social-Media-use_report.pdf)."
      ]
    },
    {
      "cell_type": "markdown",
      "metadata": {
        "id": "CEuiR2-zADLp"
      },
      "source": [
        "## 📊 1. **Bar Chart**\n",
        "Let's now create bar charts, which can be very useful:\n",
        "- **Use for:** Comparing quantities across categories.\n",
        "- **Variations:** Vertical (column) or horizontal bars.\n",
        "- **Best for:** Discrete data like sales by region, population by country."
      ]
    },
    {
      "cell_type": "markdown",
      "source": [
        "### Task 1\n",
        "Using Pandas, read in the file `Social_Media_Usage_-_May_to_Sep_2023.csv` as a DataFrame. Name the DataFrame `df`. Feel free to check out how the first few rows of the DataFrame looks like using the `.head()` function."
      ],
      "metadata": {
        "id": "YSF8uDC0CCm0"
      }
    },
    {
      "cell_type": "code",
      "execution_count": 1,
      "metadata": {
        "id": "d_DR3_mjADLp",
        "colab": {
          "base_uri": "https://localhost:8080/",
          "height": 145
        },
        "outputId": "86e022a0-dd06-4fab-dcec-e59492869d5d"
      },
      "outputs": [
        {
          "output_type": "error",
          "ename": "NameError",
          "evalue": "name 'pd' is not defined",
          "traceback": [
            "\u001b[0;31m---------------------------------------------------------------------------\u001b[0m",
            "\u001b[0;31mNameError\u001b[0m                                 Traceback (most recent call last)",
            "\u001b[0;32m/tmp/ipython-input-1-2411344266.py\u001b[0m in \u001b[0;36m<cell line: 0>\u001b[0;34m()\u001b[0m\n\u001b[0;32m----> 1\u001b[0;31m \u001b[0mdf\u001b[0m \u001b[0;34m=\u001b[0m \u001b[0mpd\u001b[0m\u001b[0;34m.\u001b[0m\u001b[0mread_csv\u001b[0m\u001b[0;34m(\u001b[0m\u001b[0;34m'Social_Media_Usage_-_May_to_Sep_2023.csv'\u001b[0m\u001b[0;34m)\u001b[0m\u001b[0;34m\u001b[0m\u001b[0;34m\u001b[0m\u001b[0m\n\u001b[0m",
            "\u001b[0;31mNameError\u001b[0m: name 'pd' is not defined"
          ]
        }
      ],
      "source": [
        "df = pd.read_csv('Social_Media_Usage_-_May_to_Sep_2023.csv')"
      ]
    },
    {
      "cell_type": "markdown",
      "source": [
        "### Task 2\n",
        "We will first create a horizontal bar chart of the values in the column `Yes, use this`. Fill in the code prompts (`TODO`) below to generate the chart.\n",
        "\n",
        "\n",
        "The first prompt asks to sort `df` in ascending order by the column `Yes, use this`.\n",
        "\n",
        "The next prompt asks to generate the stacked bar plot. Set the following parameters of the plot:\n",
        "- Title = \"Stacked Internet Usage Frequency by Year\"\n",
        "- X-axis label = \"Year\"\n",
        "- Y-axis label = \"Average Percentage (%)\"\n",
        "- Legend = upper left, with title of \"Frequency\""
      ],
      "metadata": {
        "id": "mLInwDVPDGUk"
      }
    },
    {
      "cell_type": "code",
      "execution_count": null,
      "metadata": {
        "id": "VV5mKnCLADLq"
      },
      "outputs": [],
      "source": [
        "with plt.style.context('fivethirtyeight'):\n",
        "\n",
        "    # TODO: Sort data in ascending order by \"Yes, use this\" column\n",
        "\n",
        "    # TODO: Plot the bar chart\n",
        "\n",
        "    # TODO: Add labels"
      ]
    },
    {
      "cell_type": "markdown",
      "source": [
        "### Task 3\n",
        "\n",
        "We will now create a vertical stacked bar chart. First read in as a DataFrame the file `Internet_Usage_Frequency_Trend.csv`. Add a new column `Other` where for each row, the value of the new column is the difference between 100 and the sum of the other columns in the DataFrame (`'Almost constantly', 'Several times a day', 'About once a day', 'Several times a week', 'Less often'`)."
      ],
      "metadata": {
        "id": "NvvWH2oHJNGb"
      }
    },
    {
      "cell_type": "code",
      "execution_count": null,
      "metadata": {
        "id": "hJLASVt2ADLq"
      },
      "outputs": [],
      "source": [
        "# TODO\n",
        "# df_frequency ="
      ]
    },
    {
      "cell_type": "markdown",
      "source": [
        "### Task 4\n",
        "\n",
        "Let's now plot the vertical stacked bar chart by completing the code prompts (`TODO`) below.\n",
        "\n",
        "The first prompt asks to sort `df_frequency` by the column `Year` and then to set `Year` as the index.\n",
        "\n",
        "The next prompt asks to generate the stacked bar plot. Remember to set the argument `stacked=True` in the `.plot()` function. Set the following parameters of the plot:\n",
        "- Title = \"Stacked Internet Usage Frequency by Year\"\n",
        "- X-axis label = \"Year\"\n",
        "- Y-axis label = \"Average Percentage (%)\"\n",
        "- Legend = upper left, with title of \"Frequency\""
      ],
      "metadata": {
        "id": "FsfL6oLJM25i"
      }
    },
    {
      "cell_type": "code",
      "execution_count": null,
      "metadata": {
        "id": "NOSb8iyUADLq"
      },
      "outputs": [],
      "source": [
        "with plt.style.context('fivethirtyeight'):\n",
        "\n",
        "    # TODO: Group by \"Year\" and compute average for each category\n",
        "\n",
        "    # TODO: Create stacked bar plot"
      ]
    },
    {
      "cell_type": "markdown",
      "metadata": {
        "id": "dDr9LJPhADLq"
      },
      "source": [
        "## 📈 2. **Line Chart**\n",
        "Now that we've made bar charts, let's move to line charts. Line charts have the following characteristics:\n",
        "- **Use for:** Showing trends over time (time series).\n",
        "- **Best for:** Stock prices, temperature changes, revenue over months."
      ]
    },
    {
      "cell_type": "markdown",
      "source": [
        "### Task 1\n",
        "Let's first read in the file `Internet_Usage_Trend_with_Separated_Date.csv` as a DataFrame and name it as `df_usage`.\n",
        "\n",
        "Feel free to use the `.head()` function to observe the first few rows of your DataFrame."
      ],
      "metadata": {
        "id": "57r-90RWHqM6"
      }
    },
    {
      "cell_type": "code",
      "source": [
        "# TODO\n",
        "# df_usage ="
      ],
      "metadata": {
        "id": "O8GC8VYOFJvQ"
      },
      "execution_count": null,
      "outputs": []
    },
    {
      "cell_type": "markdown",
      "source": [
        "### Task 2\n",
        "\n",
        "Write the appropriate code in the following code prompts (`TODO`) to create the line chart.\n",
        "\n",
        "The first prompt is to group the DataFrame by `Year` and compute each group's average value of the `Uses internet` column by using the `.agg()` function. Since you've grouped the data, don't forget to reset the index! Name this grouped DataFrame `df_usage_yearly`.\n",
        "\n",
        "The second prompt is to generate the line chart. Use `Year` as the x-axis and `Uses nternet` as the y-axis. Make the color of the line `blue`. Add a title and axis labels: \"Percentage of People Using Internet\" as the title, \"Year\" as the x-axis label, and \"Percentage (%)\" as the y-label. To make it even prettier, you can set the y-axis limits to `(0,100)`."
      ],
      "metadata": {
        "id": "o5vhh6KdH2US"
      }
    },
    {
      "cell_type": "code",
      "execution_count": null,
      "metadata": {
        "id": "wQuMiSuHADLq"
      },
      "outputs": [],
      "source": [
        "with plt.style.context('fivethirtyeight'):\n",
        "\n",
        "    # TODO: Group by \"Year\" and compute average for the \"Uses internet\" column\n",
        "\n",
        "    # TODO: Create line chart"
      ]
    },
    {
      "cell_type": "markdown",
      "source": [
        "### Task 3\n",
        "\n",
        "Let's now plot line charts of the . Let's first read in the file `Historical_Social_Media_Usage` as a DataFrame and name it as df_historical.\n",
        "\n",
        "Group the DataFrame by `Platform` and `Year`, then compute each group's average value of the `Yes, use this` column by using the `.agg()` function. Since you've grouped the data, don't forget to reset the index!\n",
        "\n",
        "Feel free to use the `.head()` function to observe the first few rows of your newly-aggregated DataFrame."
      ],
      "metadata": {
        "id": "mWKsQxxDEtoi"
      }
    },
    {
      "cell_type": "code",
      "execution_count": null,
      "metadata": {
        "id": "0YppzHJbADLq"
      },
      "outputs": [],
      "source": [
        "# TODO\n",
        "# df_historical ="
      ]
    },
    {
      "cell_type": "markdown",
      "source": [
        "### Task 4\n",
        "\n",
        "Let's now plot a multi-line line chart by completing the code prompts (`TODO`) below.\n",
        "\n",
        "The first prompt asks to create subplots using the `plt.subplots` function, with a figure size of `(10,6)`, and then to create the multi-line line chart.\n",
        "\n",
        "The second prompt asks to set the various labels for the plot:\n",
        "- Title = \"Platform Usage Over the Years\"\n",
        "- X-axis = \"Year\"\n",
        "- Y-axis = \"Percentage (%)\"\n",
        "- Legend = title of \"Platform, location in upper left"
      ],
      "metadata": {
        "id": "ctRiJhH5NiCw"
      }
    },
    {
      "cell_type": "code",
      "execution_count": null,
      "metadata": {
        "id": "-kiiiNH9ADLq"
      },
      "outputs": [],
      "source": [
        "with plt.style.context('fivethirtyeight'):\n",
        "    # TODO: Create subplots and line chart\n",
        "\n",
        "    # TODO: Add labels to chart"
      ]
    },
    {
      "cell_type": "markdown",
      "metadata": {
        "id": "obfBiPNfADLq"
      },
      "source": [
        "## 🥧 3. **Pie Chart**\n",
        "The next chart we will make is a pie chart. Pie charts have the following characteristics:\n",
        "- **Use for:** Showing proportions or percentage breakdowns.\n",
        "- **Best for:** Market share, budget allocation.\n",
        "- **Note:** Avoid when there are many categories or similar-sized slices—can be hard to read."
      ]
    },
    {
      "cell_type": "markdown",
      "source": [
        "### Task 1\n",
        "\n",
        "Using the `df_usage` DataFrame from earlier, we will create a pie chart by writing in the code prompts (`TODO`) below.\n",
        "\n",
        "The first prompt asks to filter `df_usage` to only those rows where the `Year` is 2023 and to select only the columns `Uses internet` and `Does not use internet` to create a filtered, subset DataFrame. Name this filtered DataFrame as `df_usage_2023`.\n",
        "\n",
        "The second prompt asks to generate the pie chart using the `plt.pie()` function. Make sure to use the column names of `df_usage_2023` as the pie chart labels. Name the chart \"Reported Internet Usage in 2023\"."
      ],
      "metadata": {
        "id": "aq11rbNSKOK3"
      }
    },
    {
      "cell_type": "code",
      "execution_count": null,
      "metadata": {
        "id": "l7MSq23OADLq"
      },
      "outputs": [],
      "source": [
        "with plt.style.context('fivethirtyeight'):\n",
        "    plt.figure(figsize=(5, 5))\n",
        "\n",
        "    # TODO: Filter df_usage per above instructions\n",
        "\n",
        "    # TODO: Generate pie chart"
      ]
    },
    {
      "cell_type": "markdown",
      "metadata": {
        "id": "sjPSOTY5ADLq"
      },
      "source": [
        "## 📉 4. **Area Chart**\n",
        "\n",
        "Finally, we generate an area chart. Area charts have the following characteristics:\n",
        "\n",
        "- **Use for:** Showing cumulative trends over time.\n",
        "- **Similar to:** Line chart, but filled with color under the line.\n",
        "- **Best for:** Total values over time (e.g., website traffic from multiple sources)."
      ]
    },
    {
      "cell_type": "markdown",
      "source": [
        "### Task 1\n",
        "\n",
        "Use the DataFrame `df_frequency` from earlier to generate an area chart by following the code prompts (`TODO`) below.\n",
        "\n",
        "The first code prompt asks to generate the area chart; make sure to set the `kind` argument to `area` and the `stacked` argument to `True`.\n",
        "\n",
        "The second code prompt asks to put the appropriate labels on the chart:\n",
        "- Title = \"Stacked Internet Usage Frequency by Year\"\n",
        "- X-label = \"Year\"\n",
        "- Y-label = \"Average Percentage (%)\"\n",
        "- Legend = title of \"Frequency\" and location of upper left"
      ],
      "metadata": {
        "id": "i-dqGzdRLQWk"
      }
    },
    {
      "cell_type": "code",
      "execution_count": null,
      "metadata": {
        "id": "Yjv5iaz0ADLq"
      },
      "outputs": [],
      "source": [
        "with plt.style.context('fivethirtyeight'):\n",
        "    # TODO: Create stacked bar plot\n",
        "\n",
        "    # TODO: Add appropriate labels"
      ]
    },
    {
      "cell_type": "code",
      "execution_count": null,
      "metadata": {
        "id": "LhMm0X1xADLq"
      },
      "outputs": [],
      "source": []
    }
  ],
  "metadata": {
    "kernelspec": {
      "display_name": ".venv",
      "language": "python",
      "name": "python3"
    },
    "language_info": {
      "codemirror_mode": {
        "name": "ipython",
        "version": 3
      },
      "file_extension": ".py",
      "mimetype": "text/x-python",
      "name": "python",
      "nbconvert_exporter": "python",
      "pygments_lexer": "ipython3",
      "version": "3.12.0"
    },
    "colab": {
      "provenance": [],
      "toc_visible": true,
      "include_colab_link": true
    }
  },
  "nbformat": 4,
  "nbformat_minor": 0
}